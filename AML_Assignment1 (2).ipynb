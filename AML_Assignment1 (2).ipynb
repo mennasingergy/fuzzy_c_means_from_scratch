{
  "nbformat": 4,
  "nbformat_minor": 0,
  "metadata": {
    "colab": {
      "provenance": []
    },
    "kernelspec": {
      "name": "python3",
      "display_name": "Python 3"
    },
    "language_info": {
      "name": "python"
    }
  },
  "cells": [
    {
      "cell_type": "code",
      "execution_count": 408,
      "metadata": {
        "id": "Cz1fHc09mdrd"
      },
      "outputs": [],
      "source": [
        "import numpy as np\n",
        "import pandas as pd\n"
      ]
    },
    {
      "cell_type": "code",
      "source": [
        "clusters_centers=np.array([[2,4],[1,7]])\n"
      ],
      "metadata": {
        "id": "xvmxLVr0m40H"
      },
      "execution_count": 409,
      "outputs": []
    },
    {
      "cell_type": "code",
      "source": [
        "data_points=np.array([[3,5],[4,6],[2,8],[2,3],[1,4]])"
      ],
      "metadata": {
        "id": "S6JYk2DXneJP"
      },
      "execution_count": 410,
      "outputs": []
    },
    {
      "cell_type": "code",
      "source": [
        "print(clusters_centers[1])\n"
      ],
      "metadata": {
        "colab": {
          "base_uri": "https://localhost:8080/"
        },
        "id": "LKF0AUoznRRi",
        "outputId": "745bd807-e4eb-45a3-e91d-d572c6bccc35"
      },
      "execution_count": 411,
      "outputs": [
        {
          "output_type": "stream",
          "name": "stdout",
          "text": [
            "[1 7]\n"
          ]
        }
      ]
    },
    {
      "cell_type": "code",
      "source": [
        "print(data_points[1])"
      ],
      "metadata": {
        "colab": {
          "base_uri": "https://localhost:8080/"
        },
        "id": "0KkjqJxQnv9Q",
        "outputId": "75e8e9d5-83b4-43c2-b2ca-38089892c390"
      },
      "execution_count": 412,
      "outputs": [
        {
          "output_type": "stream",
          "name": "stdout",
          "text": [
            "[4 6]\n"
          ]
        }
      ]
    },
    {
      "cell_type": "code",
      "source": [
        "# q=2"
      ],
      "metadata": {
        "id": "J4FJV6Ylnzzt"
      },
      "execution_count": 413,
      "outputs": []
    },
    {
      "cell_type": "code",
      "source": [
        "# lamda=1"
      ],
      "metadata": {
        "id": "IDmAaIrrZKU_"
      },
      "execution_count": 414,
      "outputs": []
    },
    {
      "cell_type": "markdown",
      "source": [
        "### calculating distance between the data points and the cluster centers\n"
      ],
      "metadata": {
        "id": "eyFtINItoQcp"
      }
    },
    {
      "cell_type": "code",
      "source": [
        "def distance(x,y):\n",
        "    return np.sqrt(np.sum(pow((x-y),2)))"
      ],
      "metadata": {
        "id": "UyEeKi9GqpeW"
      },
      "execution_count": 415,
      "outputs": []
    },
    {
      "cell_type": "code",
      "source": [
        "import decimal\n",
        "def CalculateDisance(datapoints,clusters):\n",
        "  distances=[]\n",
        "  for i in datapoints: #i=0\n",
        "    for j in clusters:#j=0\n",
        "      distances.append(distance(i,j))\n",
        "  return np.array(distances).reshape(len(datapoints),len(clusters))"
      ],
      "metadata": {
        "id": "7JcEIyWc1Ti0"
      },
      "execution_count": 416,
      "outputs": []
    },
    {
      "cell_type": "code",
      "source": [
        "x=CalculateDisance(data_points,clusters_centers)\n",
        "print(x)"
      ],
      "metadata": {
        "colab": {
          "base_uri": "https://localhost:8080/"
        },
        "id": "Tzp2aOSswhm0",
        "outputId": "18d2c39a-68d2-405b-f66d-92e37c58d6e3"
      },
      "execution_count": 417,
      "outputs": [
        {
          "output_type": "stream",
          "name": "stdout",
          "text": [
            "[[1.41421356 2.82842712]\n",
            " [2.82842712 3.16227766]\n",
            " [4.         1.41421356]\n",
            " [1.         4.12310563]\n",
            " [1.         3.        ]]\n"
          ]
        }
      ]
    },
    {
      "cell_type": "markdown",
      "source": [
        "### calculating membership \n",
        "\n",
        "\n",
        "### ps: Rnk = (1/distance_to_cluster)**(2/(q-1))"
      ],
      "metadata": {
        "id": "eWoO8Gi7h6C5"
      }
    },
    {
      "cell_type": "code",
      "source": [
        "from numpy import array\n",
        "\n",
        "def CalculateMembership(distances, q):\n",
        "   membership =[]\n",
        "   x=len(distances)\n",
        "   y=len(distances[0])\n",
        "   for i in range(x):  \n",
        "     for j in range(y): \n",
        "       current=distances[i][j]\n",
        "       value = sum([(distances[i][j]/distances[i][k])**(2/(q-1)) for k in range(len(distances[0]))]) \n",
        "       membership.append(1/value)\n",
        "   return np.array(membership).reshape(x,y)\n",
        "\n",
        " "
      ],
      "metadata": {
        "id": "Nk1gMLc6kvNn"
      },
      "execution_count": 418,
      "outputs": []
    },
    {
      "cell_type": "code",
      "source": [
        "m=CalculateMembership(x,2)\n",
        "print(m)"
      ],
      "metadata": {
        "colab": {
          "base_uri": "https://localhost:8080/"
        },
        "id": "-Ifvr8uoluQO",
        "outputId": "5885ed07-f368-4111-cd2c-94a1d52f7df8"
      },
      "execution_count": 419,
      "outputs": [
        {
          "output_type": "stream",
          "name": "stdout",
          "text": [
            "[[0.8        0.2       ]\n",
            " [0.55555556 0.44444444]\n",
            " [0.11111111 0.88888889]\n",
            " [0.94444444 0.05555556]\n",
            " [0.9        0.1       ]]\n"
          ]
        }
      ]
    },
    {
      "cell_type": "markdown",
      "source": [
        "### updating cluster means"
      ],
      "metadata": {
        "id": "2xw3qb2smVl6"
      }
    },
    {
      "cell_type": "code",
      "source": [
        "def UpdateClusterMean(membership, datapoints, q):\n",
        "   new_clusters = [] \n",
        "   numerator=0\n",
        "   denumenator=0\n",
        "   for j in range(len(membership[0])): #cluster\n",
        "      numerator=0\n",
        "      denumenator=0\n",
        "      for k in range(len(datapoints)): #points\n",
        "       numerator=numerator+(pow(membership[k][j],q))*datapoints[k]\n",
        "       denumenator=denumenator+(pow(membership[k][j],q))\n",
        "      new_clusters.append(numerator/denumenator)\n",
        "       \n",
        "\n",
        "   return new_clusters"
      ],
      "metadata": {
        "id": "KM8R3ErC-ca5"
      },
      "execution_count": 420,
      "outputs": []
    },
    {
      "cell_type": "code",
      "source": [
        "y=UpdateClusterMean(m, data_points, 2)\n",
        "print(y)"
      ],
      "metadata": {
        "colab": {
          "base_uri": "https://localhost:8080/"
        },
        "id": "kWdbZc8MmGe8",
        "outputId": "a8dc4bad-daca-4c78-ead1-38a51b0b7ea8"
      },
      "execution_count": 421,
      "outputs": [
        {
          "output_type": "stream",
          "name": "stdout",
          "text": [
            "[array([2.16796477, 4.15572554]), array([2.4084223 , 7.45183867])]\n"
          ]
        }
      ]
    },
    {
      "cell_type": "markdown",
      "source": [
        "### Calculating  Objective Function\n",
        "\n",
        "based on datapoints and their memberships"
      ],
      "metadata": {
        "id": "ZVURFKMsn5Wm"
      }
    },
    {
      "cell_type": "code",
      "source": [
        "import math\n",
        "def CalculateObjectiveFunc(datapts, membership, clusters, q, lamda):\n",
        "    J=0\n",
        "    J2=0\n",
        "    curr=0\n",
        "    mem=np.array(membership)\n",
        "    for i in range(mem.shape[0]): #datapoints\n",
        "        for j in range(mem.shape[1]): #cluster\n",
        "            J=J+ pow(membership[i][j],q) * pow(distance(datapts[i],clusters[j]),2)\n",
        "    for i in range(mem.shape[0]):\n",
        "      for j in range(mem.shape[1]):\n",
        "        membership[i][j]\n",
        "        curr= math.ceil(membership[i][j])-1\n",
        "        J2=J2+(lamda*curr)\n",
        "\n",
        "    return J+J2 \n",
        "            \n",
        "\n",
        "\n",
        "\n"
      ],
      "metadata": {
        "id": "vYZaYXmomUB7"
      },
      "execution_count": 422,
      "outputs": []
    },
    {
      "cell_type": "code",
      "source": [
        "o=CalculateObjectiveFunc(data_points, m, clusters_centers, 2, 1)\n",
        "print(o)"
      ],
      "metadata": {
        "colab": {
          "base_uri": "https://localhost:8080/"
        },
        "id": "GeH7QhAsmQTh",
        "outputId": "9e807a48-cf73-435f-e9d1-08f7dd07798e"
      },
      "execution_count": 423,
      "outputs": [
        {
          "output_type": "stream",
          "name": "stdout",
          "text": [
            "9.666666666666668\n"
          ]
        }
      ]
    },
    {
      "cell_type": "markdown",
      "source": [
        "### we will repeat all prev steps until convergence"
      ],
      "metadata": {
        "id": "un1NGpkmUKN8"
      }
    },
    {
      "cell_type": "code",
      "source": [
        "def ReachConvergence(datapts, clusters, q, lamda):\n",
        "    dist = CalculateDisance(datapts, clusters)\n",
        "    membership = CalculateMembership(dist, q)\n",
        "    j_old= CalculateObjectiveFunc(datapts, membership, clusters, q, lamda)\n",
        "    new_centers = UpdateClusterMean(membership, datapts, q)\n",
        "    while True:\n",
        "        dist = CalculateDisance(datapts, new_centers)\n",
        "        membership = CalculateMembership(dist, q)\n",
        "        j= CalculateObjectiveFunc(datapts, membership, new_centers, q, lamda)\n",
        "        # print(x)\n",
        "        \n",
        "        if abs(j - j_old) < 0.01:\n",
        "            break\n",
        "        j_old = j\n",
        "\n",
        "        new_centers = UpdateClusterMean(membership, datapts, q)\n",
        "    return membership, new_centers\n",
        "\n"
      ],
      "metadata": {
        "id": "GQTMpPqJURT1"
      },
      "execution_count": 424,
      "outputs": []
    },
    {
      "cell_type": "markdown",
      "source": [
        "### **TESTING**"
      ],
      "metadata": {
        "id": "zPdZNV0-W10_"
      }
    },
    {
      "cell_type": "code",
      "source": [
        "membership, new_centers = ReachConvergence(data_points, clusters_centers, 2, 1)\n",
        "print(\"final_membership:\")\n",
        "\n",
        "print(membership)\n",
        "\n",
        "\n",
        "print(\"final_cluster_centers:\")\n",
        "\n",
        "print(new_centers)"
      ],
      "metadata": {
        "colab": {
          "base_uri": "https://localhost:8080/"
        },
        "id": "cpYDte6TcnoT",
        "outputId": "f24bcec7-43a4-4383-e4a3-69598dd1a221"
      },
      "execution_count": 425,
      "outputs": [
        {
          "output_type": "stream",
          "name": "stdout",
          "text": [
            "final_membership:\n",
            "[[0.46963323 0.53036677]\n",
            " [0.12940992 0.87059008]\n",
            " [0.12373775 0.87626225]\n",
            " [0.96058636 0.03941364]\n",
            " [0.95198272 0.04801728]]\n",
            "final_cluster_centers:\n",
            "[array([1.70036649, 3.71861393]), array([2.97762184, 6.71728171])]\n"
          ]
        }
      ]
    },
    {
      "cell_type": "markdown",
      "source": [
        "### **BONUS PART**"
      ],
      "metadata": {
        "id": "ovFG36e-l_KW"
      }
    },
    {
      "cell_type": "code",
      "source": [
        "from matplotlib import pyplot as plt\n",
        "import seaborn as sns \n",
        "plt.rcParams[\"figure.figsize\"] = [7.50, 3.50]\n",
        "plt.rcParams[\"figure.autolayout\"] = True\n",
        "q=[2,3,4,5,6,7,8,9,10]\n",
        "def plot():\n",
        "   x=[]\n",
        "   for i in q:\n",
        "    x.append(calc_obj_func(data_points, m, clusters_centers, i, 1))\n",
        "\n",
        "   return x\n",
        "\n",
        "plt.xlabel('q-value'); plt.ylabel('objective_function');\n",
        "plt.title('q-value vs objective function');\n",
        "plt.plot(q, plot(), color='red')\n",
        "plt.show()\n",
        "\n",
        "\n",
        "\n",
        "\n"
      ],
      "metadata": {
        "colab": {
          "base_uri": "https://localhost:8080/",
          "height": 261
        },
        "id": "wEK9FkQCcwt7",
        "outputId": "54515409-3d9f-412a-ddd1-93a74a6cea91"
      },
      "execution_count": 426,
      "outputs": [
        {
          "output_type": "display_data",
          "data": {
            "text/plain": [
              "<Figure size 540x252 with 1 Axes>"
            ],
            "image/png": "[encoded data removed]"
          },
          "metadata": {
            "needs_background": "light"
          }
        }
      ]
    },
    {
      "cell_type": "markdown",
      "source": [
        "based on the graphy we will definetly take the q that min the objective function;however, we don't wish to take a very large q bec it will result in so many iterations\n",
        "\n",
        "so a suitable answer will be q=5"
      ],
      "metadata": {
        "id": "m52DvU1OjpdS"
      }
    }
  ]
}